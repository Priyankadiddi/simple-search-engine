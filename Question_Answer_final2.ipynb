{
  "nbformat": 4,
  "nbformat_minor": 0,
  "metadata": {
    "accelerator": "GPU",
    "colab": {
      "name": "Question_Answer_final.ipynb",
      "provenance": [],
      "collapsed_sections": [],
      "machine_shape": "hm"
    },
    "kernelspec": {
      "display_name": "Python 3",
      "language": "python",
      "name": "python3"
    },
    "language_info": {
      "codemirror_mode": {
        "name": "ipython",
        "version": 3
      },
      "file_extension": ".py",
      "mimetype": "text/x-python",
      "name": "python",
      "nbconvert_exporter": "python",
      "pygments_lexer": "ipython3",
      "version": "3.6.9"
    }
  },
  "cells": [
    {
      "cell_type": "code",
      "metadata": {
        "colab_type": "code",
        "id": "VXHF4_H_AWQC",
        "outputId": "94685217-0838-4095-ded7-1377e0c5a60b",
        "colab": {
          "base_uri": "https://localhost:8080/",
          "height": 122
        }
      },
      "source": [
        "from google.colab import drive\n",
        "drive.mount(\"/content/drive\")"
      ],
      "execution_count": 1,
      "outputs": [
        {
          "output_type": "stream",
          "text": [
            "Go to this URL in a browser: https://accounts.google.com/o/oauth2/auth?client_id=947318989803-6bn6qk8qdgf4n4g3pfee6491hc0brc4i.apps.googleusercontent.com&redirect_uri=urn%3aietf%3awg%3aoauth%3a2.0%3aoob&response_type=code&scope=email%20https%3a%2f%2fwww.googleapis.com%2fauth%2fdocs.test%20https%3a%2f%2fwww.googleapis.com%2fauth%2fdrive%20https%3a%2f%2fwww.googleapis.com%2fauth%2fdrive.photos.readonly%20https%3a%2f%2fwww.googleapis.com%2fauth%2fpeopleapi.readonly\n",
            "\n",
            "Enter your authorization code:\n",
            "··········\n",
            "Mounted at /content/drive\n"
          ],
          "name": "stdout"
        }
      ]
    },
    {
      "cell_type": "code",
      "metadata": {
        "colab_type": "code",
        "id": "FMU97JcJAe1c",
        "colab": {}
      },
      "source": [
        "import os, time, re, random\n",
        "# https://stackoverflow.com/a/14463362/12005970\n",
        "import warnings\n",
        "warnings.filterwarnings(\"ignore\")\n",
        "\n",
        "import numpy as np\n",
        "from numpy import asarray\n",
        "import pandas as pd\n",
        "from scipy.sparse import coo_matrix, hstack, load_npz, save_npz\n",
        "import matplotlib.pyplot as plt\n",
        "import seaborn as sns\n",
        "\n",
        "from tqdm import tqdm\n",
        "import pickle\n",
        "\n",
        "from sklearn.metrics import roc_curve, roc_auc_score, f1_score\n",
        "from sklearn.feature_extraction.text import CountVectorizer, TfidfVectorizer\n",
        "from sklearn.preprocessing import StandardScaler\n",
        "from sklearn import metrics\n",
        "from sklearn import model_selection\n",
        "from sklearn.linear_model import SGDClassifier, LogisticRegression\n",
        "from sklearn.svm import SVC\n",
        "from sklearn.tree import DecisionTreeClassifier\n",
        "from sklearn.model_selection import RandomizedSearchCV\n",
        "from sklearn.ensemble import RandomForestClassifier\n",
        "from xgboost import XGBClassifier\n",
        "from lightgbm import LGBMClassifier\n",
        "import nltk\n",
        "from nltk.corpus import stopwords\n",
        "from nltk.stem.porter import PorterStemmer\n",
        "\n",
        "# import DL libraries\n",
        "%tensorflow_version 1.x\n",
        "import tensorflow as tf\n",
        "import tensorflow.keras.backend as K\n",
        "from tensorflow.keras.layers import Input, Conv1D, Dense, Activation, LSTM, Reshape, add, dot\n",
        "from tensorflow.keras.layers import SpatialDropout1D, concatenate, CuDNNGRU,CuDNNLSTM, Bidirectional\n",
        "from tensorflow.keras.layers import BatchNormalization, Dropout, concatenate, Embedding\n",
        "from tensorflow.keras.layers import Flatten, MaxPooling1D, AveragePooling1D, GlobalMaxPooling1D, GlobalAveragePooling1D\n",
        "from tensorflow.keras.preprocessing.sequence import pad_sequences\n",
        "from tensorflow.keras.preprocessing.text import Tokenizer\n",
        "from tensorflow.keras.models import Model, load_model\n",
        "from tensorflow.keras.callbacks import EarlyStopping, ModelCheckpoint, TensorBoard, Callback\n",
        "from tensorflow.keras.utils import plot_model"
      ],
      "execution_count": 0,
      "outputs": []
    },
    {
      "cell_type": "code",
      "metadata": {
        "colab_type": "code",
        "id": "561Ew6EmA3PG",
        "colab": {
          "base_uri": "https://localhost:8080/",
          "height": 51
        },
        "outputId": "5ff7b8fb-d7c0-48b9-cdaf-01dd14e3ab15"
      },
      "source": [
        "def load_data():\n",
        "    \"\"\"\n",
        "    this will load the data\n",
        "    \"\"\"\n",
        "    df = pd.read_csv(d+\"data.tsv\", sep = \"\\t\", header = None, low_memory = True)\n",
        "    col_names = [\"que_no\", \"question\", \"answer\", \"label\", \"ans_no\"]\n",
        "    print(\"Before number column in dataset are : \", df.shape[1])\n",
        "    df.columns = col_names\n",
        "    # Note: ans_no, que_no column is not useful for this probelm, so I'm droping this column\n",
        "    df.drop([\"que_no\",\"ans_no\"], axis = 1, inplace = True)\n",
        "    print(\"After droping number columns in dataset are: \", df.shape[1])\n",
        "    print(\"Number of datapoints in dataset : {:,}\".format(df.shape[0]))\n",
        "    return df\n",
        "\n",
        "try:\n",
        "    stop_words = set(stopwords.words(\"english\"))\n",
        "except:\n",
        "    nltk.download('stopwords')\n",
        "    stop_words = set(stopwords.words(\"english\"))\n",
        "#removing \"not\" stop word from stop_words\n",
        "stop_words = stop_words - {\"not\", \"what\", \"when\", \"where\", \"how\", \"which\"}\n",
        "\n",
        "##########################################################################################################\n",
        "#################################### function to pre-process the text ####################################\n",
        "##########################################################################################################\n",
        "def text_process(row):\n",
        "    \"\"\"\n",
        "    this function is for pre-processing the text.\n",
        "    exppand the sentences, remove stopwords, removes html, remove extra space etc.\n",
        "    \"\"\"\n",
        "    try:\n",
        "        text = row\n",
        "        text = str(text).lower()\n",
        "        porter = PorterStemmer()\n",
        "\n",
        "        #expansion\n",
        "        text = text.replace(\"won't\", \"will not\").replace(\"cannot\", \"can not\").replace(\"can't\", \"can not\")\\\n",
        "        .replace(\"n't\", \" not\").replace(\"what's\", \"what is\").replace(\"it's\", \"itis\")\\\n",
        "        .replace(\"'ve\", \" have\").replace(\"i'm\", \"i am\").replace(\"'re\", \" are\")\\\n",
        "        .replace(\"he's\", \"he is\").replace(\"she's\", \"she is\").replace(\"'s\", \" own\")\\\n",
        "        .replace(\"%\", \" percent \").replace(\"₹\", \" rupee \").replace(\"$\", \" dollar\")\\\n",
        "        .replace(\"€\", \" euro \").replace(\"'ll\", \" will\")\n",
        "\n",
        "        text = re.sub(r\"<.*?>\",\"\", text) # removes the htmltags: https://stackoverflow.com/a/12982689\n",
        "\n",
        "        #special character removal\n",
        "        text = re.sub('[^a-zA-Z0-9\\n]', ' ', text)\n",
        "        #extra space removal\n",
        "        text = re.sub('\\s+',' ', text)\n",
        "\n",
        "        # stopword removal\n",
        "        text_to_words = []\n",
        "        for word in text.split():\n",
        "            if word not in stop_words:\n",
        "                text_to_words.append(word)\n",
        "            else:\n",
        "                continue\n",
        "        text = \" \".join(text_to_words)\n",
        "\n",
        "        # stemm the words of sentence\n",
        "        text = porter.stem(text)\n",
        "\n",
        "        return text\n",
        "\n",
        "    except:\n",
        "        print(\"There is no value in comment_text, so returnin 'nan'\")\n",
        "        \n",
        "        return np.nan\n",
        "\n",
        "##########################################################################################################\n",
        "#################################### function to design the features  ####################################\n",
        "##########################################################################################################\n",
        "\n",
        "def hand_craft_features(data_df):\n",
        "    \"\"\"\n",
        "    this creates the hand crafted features.\n",
        "    \"\"\"\n",
        "    # lenth features\n",
        "    data_df[\"que_len\"] = data_df[\"question\"].apply(lambda x:len(x))\n",
        "    data_df[\"ans_len\"] = data_df[\"answer\"].apply(lambda x:len(x))\n",
        "    data_df[\"que_word\"] = data_df[\"question\"].apply(lambda x:len(x.split()))\n",
        "    data_df[\"ans_word\"] = data_df[\"answer\"].apply(lambda x:len(x.split()))\n",
        "    data_df[\"unique_word_que\"] = data_df[\"question\"].apply(lambda x:len(set(x.split())))\n",
        "    data_df[\"unique_word_ans\"] = data_df[\"answer\"].apply(lambda x:len(set(x.split())))\n",
        "    #ratio features\n",
        "    data_df[\"ratio_q_a_len\"] = data_df[\"que_len\"]/data_df[\"ans_len\"]\n",
        "    data_df[\"ratio_q_a_word\"] = data_df[\"que_word\"]/data_df[\"ans_word\"]\n",
        "    data_df[\"ratio_q_a_unique_word\"] = data_df[\"unique_word_que\"]/data_df[\"unique_word_ans\"]\n",
        "    data_df[\"ration_qword_alen\"] = data_df[\"que_word\"]/data_df[\"ans_len\"]\n",
        "    data_df[\"ratio_aword_qlen\"] = data_df[\"ans_word\"]/data_df[\"que_len\"]\n",
        "    data_df[\"ratio_unique_qword_aword\"] = data_df[\"unique_word_que\"]/data_df[\"ans_word\"]\n",
        "    data_df[\"ratio_unique_aword_qword\"] = data_df[\"unique_word_ans\"]/data_df[\"que_word\"]\n",
        " \n",
        "    df.replace([np.inf], np.nan, inplace = True)\n",
        "    data_df.fillna(0, inplace=True)\n",
        "    \n",
        "    return data_df\n",
        "\n",
        "##########################################################################################################\n",
        "#################################### function to split the data       ####################################\n",
        "##########################################################################################################\n",
        "def split_data(df):\n",
        "    \"\"\"\n",
        "    this will split the data into 80-10-10\n",
        "    \"\"\"\n",
        "    df_train = df.iloc[0:3800000, :] \n",
        "    df_cv    = df.iloc[3800000:3900000, :]\n",
        "    df_test  = df.iloc[3900000:, :]\n",
        "\n",
        "    X_train, y_train = df_train[[col for col in df.columns if col != \"label\"]], df_train[[\"label\"]]\n",
        "    X_cv, y_cv       = df_cv[[col for col in df.columns if col != \"label\"]], df_cv[[\"label\"]]\n",
        "    X_test, y_test   = df_test[[col for col in df.columns if col != \"label\"]], df_test[[\"label\"]]\n",
        "    return X_train, y_train, X_cv, y_cv, X_test, y_test\n",
        "\n",
        "##########################################################################################################\n",
        "#################################### function to plot confudion matrix   #################################\n",
        "##########################################################################################################\n",
        "from sklearn.metrics import confusion_matrix\n",
        "def plot_C_P_R_matrix(y_true, y_pred, name):\n",
        "    \"\"\"\n",
        "    Funtion to plot confusion, precision and recall matrix\n",
        "    \"\"\"\n",
        "    C = confusion_matrix(y_true, y_pred) #for confusion matrix\n",
        "    # for presion matrix: take the sum column wise, i.e. column normalization\n",
        "    P = C/C.sum(axis = 0) # it'll have column sum = 1\n",
        "    #for recall matrix: take the sum row wise, i.e. row normalization\n",
        "    R = (C.T/C.sum(axis = 1)).T #it'll have row sum = 1\n",
        "\n",
        "    fig, (ax1, ax2, ax3)  = plt.subplots(1,3, figsize= (19,4))\n",
        "\n",
        "    #https://seaborn.pydata.org/generated/seaborn.heatmap.html\n",
        "    sns.heatmap(C, annot = True, fmt = 'd', annot_kws={\"size\":15}, ax = ax1)\n",
        "    ax1.set_title(\"Confusion Matrix\", fontsize = 15)\n",
        "    ax1.set_xlabel(\"Predicted\", fontsize = 12)\n",
        "    ax1.set_ylabel(\"Actual\", fontsize = 12)\n",
        "\n",
        "    sns.heatmap(P, annot = True, fmt = '.3f', annot_kws={\"size\":15}, ax = ax2)\n",
        "    ax2.set_title(\"Precision Matrix\", fontsize = 15)\n",
        "    ax2.set_xlabel(\"Predicted\", fontsize = 12)\n",
        "    ax2.set_ylabel(\"Actual\", fontsize = 12)\n",
        "\n",
        "    sns.heatmap(R, annot = True, fmt = '.3f', annot_kws={\"size\":15}, ax = ax3)\n",
        "    ax3.set_title(\"Recall Matrix\", fontsize = 15)\n",
        "    ax3.set_xlabel(\"Predicted\", fontsize = 12)\n",
        "    ax3.set_ylabel(\"Actual\", fontsize = 12)\n",
        "\n",
        "    plt.show()\n",
        "\n",
        "########################################################################################\n",
        "#######################    function to plot Confusion matrix     #######################\n",
        "########################################################################################\n",
        "def plot_confusion_matrix(y_train_pred, y_cv_pred, y_test_pred, y_train, y_cv, y_test, thres):\n",
        "    \"\"\"\n",
        "    funtion to plot the precison, recall and confusion matrix for train, cv and test data\n",
        "    \"\"\"\n",
        "    tr_pred = np.where(y_train_pred >= thres, 1, 0)\n",
        "    cv_pred = np.where(y_cv_pred >= thres, 1, 0)\n",
        "    te_pred = np.where(y_test_pred >= thres, 1, 0)   \n",
        "\n",
        "    print(\" \"*30, \"*\"*20, \"For Train data\", \"*\"*20)\n",
        "    plot_C_P_R_matrix(y_train.values.flatten(), tr_pred, name = \"Train\")\n",
        "\n",
        "    print(\" \"*30, \"*\"*20, \"For CV data\", \"*\"*20)\n",
        "    plot_C_P_R_matrix(y_cv.values.flatten(), cv_pred, name = \"CV\")\n",
        "\n",
        "    print(\" \"*30, \"*\"*20, \"For Test data\", \"*\"*20)\n",
        "    plot_C_P_R_matrix(y_test.values.flatten(), te_pred, name = \"Test\")\n",
        "\n",
        "########################################################################################################\n",
        "############################      function to calculate the MRR        #################################\n",
        "########################################################################################################\n",
        "from sklearn.metrics import label_ranking_average_precision_score\n",
        "def get_mrr(y_true, y_pred):\n",
        "    \"\"\"\n",
        "    to calcuate the mrr.\n",
        "    it take the y_true and y_pred and make list of lists such that\n",
        "    for each question ten answer result in list.\n",
        "    \"\"\"\n",
        "    y_true = np.array([y_true[i*10:(i+1)*10] for i in range(len(y_true)//10)])\n",
        "    y_pred = np.array([y_pred[i*10:(i+1)*10] for i in range(len(y_pred)//10)])\n",
        "    return label_ranking_average_precision_score(y_true, y_pred)\n",
        "\n",
        "########################################################################################################\n",
        "############################     function to report the best model (DL)     ############################\n",
        "########################################################################################################\n",
        "def report_model1(model, train_x, cv_x, test_x, y_train, y_cv, y_test, batch_size= 1024, thres = 0.1):\n",
        "    \"\"\"\n",
        "    function take the trained model and report the performance of model on train/cv/test dataset\n",
        "    \"\"\"\n",
        "    y_train_pred = model.predict(train_x, batch_size = batch_size, verbose=1)\n",
        "    y_cv_pred = model.predict(cv_x, batch_size = batch_size, verbose=1)\n",
        "    y_test_pred = model.predict(test_x, batch_size = batch_size, verbose=1)\n",
        "\n",
        "    mrr_score_tr = get_mrr(y_train.values.flatten(), y_train_pred.flatten())\n",
        "    mrr_score_cv = get_mrr(y_cv.values.flatten(), y_cv_pred.flatten())\n",
        "    mrr_score_te = get_mrr(y_test.values.flatten(), y_test_pred.flatten())\n",
        "\n",
        "    print(\"For this model:\\n Train mrr-score: {:.4f}\\\n",
        "    \\n CV mrr-score: {:.4f}\\n Test mrr-score: {:.4f}\".format(mrr_score_tr,\n",
        "                                                             mrr_score_cv,\n",
        "                                                             mrr_score_te))\n",
        "    plot_confusion_matrix(y_train_pred, y_cv_pred, y_test_pred, y_train, y_cv, y_test, thres = thres)\n",
        "    return mrr_score_tr, mrr_score_cv, mrr_score_te\n",
        "\n",
        "########################################################################################################\n",
        "############################     function to convert text into sequence ################################\n",
        "########################################################################################################\n",
        "def text_to_seq(texts, keras_tokenizer, max_len):\n",
        "    \"\"\"this function  return sequence of text after padding /truncating\"\"\"\n",
        "    x = pad_sequences(keras_tokenizer.texts_to_sequences(texts),maxlen = max_len, padding = 'post',truncating = 'post')\n",
        "    return x\n",
        "########################################################################################################\n",
        "############################     function to convert text into sequence ################################\n",
        "########################################################################################################\n",
        "def return_sequnece_embed_matrix(tokens, X_train,X_cv, X_test, max_length_que, max_length_ans):\n",
        "    \"\"\"\n",
        "    this will return the embedded matrix and\n",
        "    this will also convert question and answer text into sequence\n",
        "    \"\"\"\n",
        "    # creating only one token for both question and answer\n",
        "\n",
        "    # padding the encoded data to make each datapoint of same dimension\n",
        "    encoded_que_train = text_to_seq(X_train[\"question\"].values, tokens, max_length_que)\n",
        "    encoded_que_cv    = text_to_seq(X_cv[\"question\"].values, tokens, max_length_que)\n",
        "    encoded_que_test  = text_to_seq(X_test[\"question\"].values, tokens, max_length_que)\n",
        "\n",
        "    print(\"Shape of train, cv and test {} features are: {}, {}, {}\".format('question',\n",
        "                                                                         encoded_que_train.shape,\n",
        "                                                                         encoded_que_cv.shape,\n",
        "                                                                         encoded_que_test.shape))\n",
        "\n",
        "    # padding the encoded data to make each datapoint of same dimension\n",
        "    encoded_ans_train = text_to_seq(X_train[\"answer\"].values, tokens, max_length_ans)\n",
        "    encoded_ans_cv    = text_to_seq(X_cv[\"answer\"].values, tokens, max_length_ans)\n",
        "    encoded_ans_test  = text_to_seq(X_test[\"answer\"].values, tokens, max_length_ans)\n",
        "\n",
        "    print(\"Shape of train, cv and test {} features are: {}, {}, {}\".format('answer',\n",
        "                                                                         encoded_ans_train.shape,\n",
        "                                                                         encoded_ans_cv.shape,\n",
        "                                                                         encoded_ans_test.shape))\n",
        "    \n",
        "    return encoded_que_train, encoded_que_cv, encoded_que_test, encoded_ans_train, encoded_ans_cv, encoded_ans_test\n",
        "\n",
        "########################################################################################################\n",
        "############################     function to get the embedded matrix    ################################\n",
        "########################################################################################################\n",
        "def return_embed_matrix(tokens, vocab_size):\n",
        "    # below array will be used in Embedding layer\n",
        "    \"\"\"\n",
        "    this will give the embedded matrix\n",
        "    \"\"\"\n",
        "    # https://machinelearningmastery.com/use-word-embedding-layers-deep-learning-keras/\n",
        "    file_name = \"/content/drive/My Drive/Colab Notebooks/Datasets/Personal Case Study/Glove Vector/glove.6B.200d.txt\"\n",
        "    # gettting the length of unique words in train data,\n",
        "    # and adding (+1) becasue of zeros padding and words are encoded from 1 to n\n",
        "    vocab_size = len(tokens.word_index) + 1\n",
        "    # below array will be used in Embedding layer\n",
        "    embedding_matrix1 = np.zeros((vocab_size, 200), dtype = 'float32')\n",
        "    with open(file_name, 'r') as f:\n",
        "        for line in f:\n",
        "            values = line.split()\n",
        "            word = values[0]\n",
        "            vector = [float(i) for i in values[1:]]\n",
        "            word_index = tokens.word_index.get(word) #index of word in our tokenizer\n",
        "            if word_index:\n",
        "                embedding_matrix1[word_index] = vector\n",
        "    return embedding_matrix1\n",
        "\n",
        "########################################################################################################\n",
        "############################     defining custom callback               ################################\n",
        "########################################################################################################\n",
        "# to create custom callback for prediction: https://stackoverflow.com/a/59231724/12005970\n",
        "# https://github.com/keras-team/keras/blob/aa21a15bd3b1f5a32f49710d771f2c59deb9c7a0/keras/callbacks.py#L231-L256\n",
        "class mrr_callback_checkpoint(Callback):\n",
        "    def __init__(self, filepath, training_data = (), validation_data = (),\n",
        "                 batch_size = 1024, verbose=0, save_best_only=False):\n",
        "        super(Callback, self).__init__()\n",
        "        self.verbose = verbose\n",
        "        self.filepath = filepath\n",
        "        self.save_best_only = save_best_only\n",
        "        self.best = -np.Inf\n",
        "        self.batch_size = batch_size\n",
        "        self.x_val, self.y_val = validation_data\n",
        "        self.x_train, self.y_train = training_data\n",
        "\n",
        "\n",
        "    def on_epoch_end(self, epoch, logs={}):\n",
        "        y_pred_train = self.model.predict(self.x_train, batch_size = batch_size)\n",
        "        y_pred_val = self.model.predict(self.x_val, batch_size = batch_size)\n",
        "        mrr_train = get_mrr(y_train.values.flatten(), y_pred_train.flatten())\n",
        "        mrr_cv    = get_mrr(y_cv.values.flatten(), y_pred_val.flatten())\n",
        "        print('\\nEpoch {}: Train MRR: {:.5f} and CV MRR: {:.5f}'.format(epoch+1, mrr_train, mrr_cv))\n",
        "\n",
        "        if self.save_best_only:\n",
        "            current = mrr_cv\n",
        "            if current is None:\n",
        "                warnings.warn(\"Can save best model only with {} available, skipping.\".format('val mrr-score'), RuntimeWarning)\n",
        "            else:\n",
        "                if current > self.best:\n",
        "                    if self.verbose > 0:\n",
        "                        print(\"Epoch %05d: %s improved from %0.5f to %0.5f, saving model to %s\"\n",
        "                              % (epoch+1, 'val mrr-score', self.best, current, self.filepath))\n",
        "                    self.best = current\n",
        "                    self.model.save_weights(self.filepath, overwrite=True)\n",
        "                else:\n",
        "                    if self.verbose > 0:\n",
        "                        print(\"Epoch %05d: %s did not improve\" % (epoch+1, 'val mrr-score'))\n",
        "        else:\n",
        "            if self.verbose > 0:\n",
        "                print(\"Epoch %05d: saving model to %s\" % (epoch+1, self.filepath))\n",
        "            self.model.save_weights(self.filepath, overwrite=True)\n",
        "\n",
        "########################################################################################################\n",
        "############################     function to create the model           ################################\n",
        "########################################################################################################\n",
        "def create_model(vocab_size, max_length_que, max_length_ans, embedding_matrix1):\n",
        "    \"\"\"\n",
        "    to create the model- QA-LSTM/CNN-attention: https://arxiv.org/pdf/1511.04108.pdf\n",
        "    \"\"\"\n",
        "    K.clear_session()\n",
        "    def add_bidirection(input_, na):\n",
        "        x = Bidirectional(CuDNNGRU(32, return_sequences=True), name = \"bidirectional_1_\"+str(na))(input_)\n",
        "        avg_pool = AveragePooling1D(pool_size = 2, padding = 'same', name = 'avg_pool_'+str(na))(x)\n",
        "        return avg_pool\n",
        "    # question input\n",
        "    que_input  = Input(shape = (max_length_que, ), name = \"que_layer\")\n",
        "    embed_text1 = Embedding(input_dim = vocab_size, output_dim = 200,\n",
        "                                weights=[embedding_matrix1], input_length = max_length_que,\n",
        "                                trainable = False, name = 'que_embedding')(que_input)\n",
        "    # answer input\n",
        "    ans_input  = Input(shape = (max_length_ans, ), name = \"ans_layer\")\n",
        "    embed_text2 = Embedding(input_dim = vocab_size, output_dim = 200,\n",
        "                                weights=[embedding_matrix1], input_length = max_length_ans,\n",
        "                                trainable = False, name = 'ans_embedding')(ans_input)\n",
        "\n",
        "    avg_pool1 = add_bidirection(embed_text1, na = 'q')\n",
        "    avg_pool2 = add_bidirection(embed_text2, na = 'a')\n",
        "\n",
        "    # dot product of maxpooling of question with maxpooling of answer\n",
        "    dot1 = dot([avg_pool1, avg_pool2], axes=-1, name='dot_of_max')\n",
        "    flat1 = Flatten(name='flatten_1')(dot1)\n",
        "    out = Dense(1, activation='sigmoid', name = \"output_layer\")(flat1)\n",
        "\n",
        "    model = Model(inputs=[que_input, ans_input], outputs = out, name = \"Model_2\")\n",
        "    return model"
      ],
      "execution_count": 4,
      "outputs": [
        {
          "output_type": "stream",
          "text": [
            "[nltk_data] Downloading package stopwords to /root/nltk_data...\n",
            "[nltk_data]   Unzipping corpora/stopwords.zip.\n"
          ],
          "name": "stdout"
        }
      ]
    },
    {
      "cell_type": "code",
      "metadata": {
        "id": "PZflB9mb7HuB",
        "colab_type": "code",
        "colab": {}
      },
      "source": [
        "d = \"/content/drive/My Drive/Colab Notebooks/Datasets/Personal Case Study/Search Engine/\"\n",
        "model_path = d+\"Models/\"\n",
        "max_length_que = 50\n",
        "max_length_ans = 250\n",
        "n_epochs = 10\n",
        "batch_size = 1024"
      ],
      "execution_count": 0,
      "outputs": []
    },
    {
      "cell_type": "markdown",
      "metadata": {
        "id": "bBggDPR3l_M8",
        "colab_type": "text"
      },
      "source": [
        "## **`train()` function**"
      ]
    },
    {
      "cell_type": "code",
      "metadata": {
        "colab_type": "code",
        "id": "_rPqjbX6CfkF",
        "colab": {}
      },
      "source": [
        "def train():\n",
        "    if not os.path.isfile(d+\"Processed Data/text_processed.csv\"):\n",
        "        print(\"processed data is not in drive, let's create...\")\n",
        "        #laod the data\n",
        "        df = load_data()\n",
        "        # pre-process text data\n",
        "        df.loc[:,\"question\"] = df[\"question\"].apply(text_process)\n",
        "        df.loc[:,\"answer\"] = df[\"answer\"].apply(text_process)\n",
        "        # relacing such question and answers with np.Nan and then droping them\n",
        "        df.replace([\"\", \"null\"], np.nan, inplace = True)\n",
        "        df.dropna(axis = 0, how = \"any\", inplace= True)\n",
        "        # drop duplicates\n",
        "        df.drop_duplicates(subset = [\"question\", \"answer\"], keep = False, inplace = True)\n",
        "\n",
        "        # Let's remove the questions that have more than 1 correct answer\n",
        "        # https://stackoverflow.com/a/43501282/12005970\n",
        "        a = df.groupby('question')\\\n",
        "                .agg({'answer': 'count', 'label': 'sum'})\\\n",
        "                .reset_index()\\\n",
        "                .rename(columns={'answer':'total answers', 'label': 'correct answers'})\n",
        "        # questions that have more than 1 correct answer\n",
        "        multiple_correct_answers_df = a[(a['correct answers']>1) \n",
        "                                        or (a['correct answers'] == 0)\n",
        "                                        or (a['total answers'] < 10)\n",
        "                                        or (a['total answers'] > 10)]\n",
        "        df.drop(df[df['question'].isin(multiple_correct_answers)].index, axis = 0, inplace=True)\n",
        "        df.reset_index(inplace=True, drop= True)\n",
        "\n",
        "        # design text based features\n",
        "        df = hand_craft_features(df)\n",
        "        df = df.head(4000000)\n",
        "    else:\n",
        "        print(\"laoding the processed dataset from drive...\")\n",
        "        df = pd.read_csv(d+\"Processed Data/text_processed.csv\", low_memory=True)\n",
        "        df = df.head(4000000)\n",
        "    \n",
        "    # split the dataset\n",
        "    print(\"splitting the data...\")\n",
        "    X_train, y_train, X_cv, y_cv, X_test, y_test = split_data(df)\n",
        "    \n",
        "    print(\"creating tokens...\")\n",
        "    if not os.path.isfile(d+\"Models/tokens.pkl\"):\n",
        "        print(\"tokenizer is not in the disk, so creating it...\")\n",
        "        tokens = Tokenizer()\n",
        "        tokens.fit_on_texts(list(df[\"question\"]+ \" \"+ df[\"answer\"]))\n",
        "        with open(d+\"Models/tokens.pkl\", \"wb\") as f:\n",
        "            pickle.dump(tokens, f)\n",
        "    else:\n",
        "        print(\"tokenizer is in the disk, so laoding from the disk...\")\n",
        "        with open(d+\"Models/tokens.pkl\", \"rb\") as f:\n",
        "            tokens = pickle.load(f)\n",
        "\n",
        "    vocab_size = len(tokens.word_index) + 1    \n",
        "\n",
        "    print(\"converting text into sequence...\")\n",
        "    encoded_que_train, encoded_que_cv, encoded_que_test,\\\n",
        "    encoded_ans_train, encoded_ans_cv, encoded_ans_test = return_sequnece_embed_matrix(tokens, X_train,X_cv, X_test,\n",
        "                                                                                       max_length_que, max_length_ans)\n",
        "    embedding_matrix1 = return_embed_matrix(tokens, vocab_size)\n",
        "\n",
        "    print(\"creating the model...\")\n",
        "    model = create_model(vocab_size, max_length_que, max_length_ans, embedding_matrix1)\n",
        "    print(model.summary())\n",
        "    if not os.path.isfile(d+\"Models/Model_2.h5\"):\n",
        "        print(\"trained model is not in disk, let's train it...\")\n",
        "        es = EarlyStopping(monitor = 'val_loss', mode = 'min', min_delta = 0.001, patience = 5, verbose = 1)\n",
        "        pe = mrr_callback_checkpoint(filepath = d+\"Models/Model_2.h5\",\n",
        "                                    training_data = ([encoded_que_train,\n",
        "                                                      encoded_ans_train], y_train),\n",
        "                                    validation_data = ([encoded_que_cv,\n",
        "                                                        encoded_ans_cv], y_cv),\n",
        "                                    verbose = 1, save_best_only = True)\n",
        "\n",
        "\n",
        "        model.compile(loss='binary_crossentropy', optimizer = \"rmsprop\")\n",
        "        model.fit([encoded_que_train, encoded_ans_train], y_train,\n",
        "                  validation_data = ([encoded_que_cv, encoded_ans_cv], y_cv),\n",
        "                  epochs = n_epochs, batch_size = batch_size, callbacks = [es, pe])\n",
        "    else:\n",
        "        print(\"trained model is in the disk. Loading the model from disk...\")\n",
        "        model.load_weights(d+\"Models/Model_2.h5\")\n",
        "        tr, cv, te = report_model1(model,\n",
        "                                [encoded_que_train, encoded_ans_train],\n",
        "                                [encoded_que_cv, encoded_ans_cv],\n",
        "                                [encoded_que_test, encoded_ans_test],\n",
        "                                y_train, y_cv, y_test, batch_size = 1024)\n",
        "    return model, tr, cv, te"
      ],
      "execution_count": 0,
      "outputs": []
    },
    {
      "cell_type": "code",
      "metadata": {
        "colab_type": "code",
        "id": "5OCwCItgC99-",
        "outputId": "29442460-0ae1-4f1a-9bea-50336f356fbb",
        "colab": {
          "base_uri": "https://localhost:8080/",
          "height": 1000
        }
      },
      "source": [
        "best_model, tr, cv, te = train()"
      ],
      "execution_count": 7,
      "outputs": [
        {
          "output_type": "stream",
          "text": [
            "laoding the processed dataset from drive...\n",
            "splitting the data...\n",
            "creating tokens...\n",
            "tokenizer is in the disk, so laoding from the disk...\n",
            "converting text into sequence...\n",
            "Shape of train, cv and test question features are: (3800000, 50), (100000, 50), (100000, 50)\n",
            "Shape of train, cv and test answer features are: (3800000, 250), (100000, 250), (100000, 250)\n",
            "creating the model...\n",
            "WARNING:tensorflow:From /usr/local/lib/python3.6/dist-packages/tensorflow_core/python/keras/initializers.py:119: calling RandomUniform.__init__ (from tensorflow.python.ops.init_ops) with dtype is deprecated and will be removed in a future version.\n",
            "Instructions for updating:\n",
            "Call initializer instance with the dtype argument instead of passing it to the constructor\n",
            "WARNING:tensorflow:From /usr/local/lib/python3.6/dist-packages/tensorflow_core/python/ops/resource_variable_ops.py:1630: calling BaseResourceVariable.__init__ (from tensorflow.python.ops.resource_variable_ops) with constraint is deprecated and will be removed in a future version.\n",
            "Instructions for updating:\n",
            "If using Keras pass *_constraint arguments to layers.\n",
            "WARNING:tensorflow:From /usr/local/lib/python3.6/dist-packages/tensorflow_core/python/ops/init_ops.py:97: calling GlorotUniform.__init__ (from tensorflow.python.ops.init_ops) with dtype is deprecated and will be removed in a future version.\n",
            "Instructions for updating:\n",
            "Call initializer instance with the dtype argument instead of passing it to the constructor\n",
            "WARNING:tensorflow:From /usr/local/lib/python3.6/dist-packages/tensorflow_core/python/ops/init_ops.py:97: calling Orthogonal.__init__ (from tensorflow.python.ops.init_ops) with dtype is deprecated and will be removed in a future version.\n",
            "Instructions for updating:\n",
            "Call initializer instance with the dtype argument instead of passing it to the constructor\n",
            "WARNING:tensorflow:From /usr/local/lib/python3.6/dist-packages/tensorflow_core/python/ops/init_ops.py:97: calling Zeros.__init__ (from tensorflow.python.ops.init_ops) with dtype is deprecated and will be removed in a future version.\n",
            "Instructions for updating:\n",
            "Call initializer instance with the dtype argument instead of passing it to the constructor\n",
            "Model: \"Model_2\"\n",
            "__________________________________________________________________________________________________\n",
            "Layer (type)                    Output Shape         Param #     Connected to                     \n",
            "==================================================================================================\n",
            "que_layer (InputLayer)          [(None, 50)]         0                                            \n",
            "__________________________________________________________________________________________________\n",
            "ans_layer (InputLayer)          [(None, 250)]        0                                            \n",
            "__________________________________________________________________________________________________\n",
            "que_embedding (Embedding)       (None, 50, 200)      167166000   que_layer[0][0]                  \n",
            "__________________________________________________________________________________________________\n",
            "ans_embedding (Embedding)       (None, 250, 200)     167166000   ans_layer[0][0]                  \n",
            "__________________________________________________________________________________________________\n",
            "bidirectional_1_q (Bidirectiona (None, 50, 64)       44928       que_embedding[0][0]              \n",
            "__________________________________________________________________________________________________\n",
            "bidirectional_1_a (Bidirectiona (None, 250, 64)      44928       ans_embedding[0][0]              \n",
            "__________________________________________________________________________________________________\n",
            "avg_pool_q (AveragePooling1D)   (None, 25, 64)       0           bidirectional_1_q[0][0]          \n",
            "__________________________________________________________________________________________________\n",
            "avg_pool_a (AveragePooling1D)   (None, 125, 64)      0           bidirectional_1_a[0][0]          \n",
            "__________________________________________________________________________________________________\n",
            "dot_of_max (Dot)                (None, 25, 125)      0           avg_pool_q[0][0]                 \n",
            "                                                                 avg_pool_a[0][0]                 \n",
            "__________________________________________________________________________________________________\n",
            "flatten_1 (Flatten)             (None, 3125)         0           dot_of_max[0][0]                 \n",
            "__________________________________________________________________________________________________\n",
            "output_layer (Dense)            (None, 1)            3126        flatten_1[0][0]                  \n",
            "==================================================================================================\n",
            "Total params: 334,424,982\n",
            "Trainable params: 92,982\n",
            "Non-trainable params: 334,332,000\n",
            "__________________________________________________________________________________________________\n",
            "None\n",
            "trained model is in the disk. Loading the model from disk...\n",
            "3800000/3800000 [==============================] - 158s 41us/sample\n",
            "100000/100000 [==============================] - 9s 86us/sample\n",
            "100000/100000 [==============================] - 4s 37us/sample\n",
            "For this model:\n",
            " Train mrr-score: 0.5462    \n",
            " CV mrr-score: 0.4983\n",
            " Test mrr-score: 0.4926\n",
            "                               ******************** For Train data ********************\n"
          ],
          "name": "stdout"
        },
        {
          "output_type": "display_data",
          "data": {
            "image/png": "[encoded data removed]",
            "text/plain": [
              "<Figure size 1368x288 with 6 Axes>"
            ]
          },
          "metadata": {
            "tags": []
          }
        },
        {
          "output_type": "stream",
          "text": [
            "                               ******************** For CV data ********************\n"
          ],
          "name": "stdout"
        },
        {
          "output_type": "display_data",
          "data": {
            "image/png": "[encoded data removed]",
            "text/plain": [
              "<Figure size 1368x288 with 6 Axes>"
            ]
          },
          "metadata": {
            "tags": []
          }
        },
        {
          "output_type": "stream",
          "text": [
            "                               ******************** For Test data ********************\n"
          ],
          "name": "stdout"
        },
        {
          "output_type": "display_data",
          "data": {
            "image/png": "[encoded data removed]",
            "text/plain": [
              "<Figure size 1368x288 with 6 Axes>"
            ]
          },
          "metadata": {
            "tags": []
          }
        }
      ]
    },
    {
      "cell_type": "markdown",
      "metadata": {
        "id": "qbI28pe7mMF2",
        "colab_type": "text"
      },
      "source": [
        "## **`final1()` fnction**"
      ]
    },
    {
      "cell_type": "markdown",
      "metadata": {
        "id": "sKo8Ou-smcMT",
        "colab_type": "text"
      },
      "source": [
        "* This function will take the data in (X,Y) format give the performance of model.\n",
        "* It is like evaluating function for the model.\n",
        "\n",
        "**Note:** Before sending (X,Y) in function make sure that they follow these conditions-\n",
        "* Each question must have only 10 answer and only one of them should be correct.\n",
        "* First 10 row will correspond first question, next 10 rows will correspond to next question, next 10 rows will correspond to third question and so on. "
      ]
    },
    {
      "cell_type": "code",
      "metadata": {
        "id": "7WXEOKfhmZ8z",
        "colab_type": "code",
        "outputId": "5efb8f02-fbe9-40bd-f124-cf0580a4939b",
        "colab": {
          "base_uri": "https://localhost:8080/",
          "height": 68
        }
      },
      "source": [
        "# trained model and saved tokener will be same for both functions\n",
        "# let's load them first\n",
        "\n",
        "#loading tokenizer\n",
        "print(\"tokenizer is in the disk, so laoding from the disk...\")\n",
        "with open(d+\"Models/tokens.pkl\", \"rb\") as f:\n",
        "    tokens = pickle.load(f)\n",
        "\n",
        "vocab_size = len(tokens.word_index) + 1\n",
        "embedding_matrix1 = return_embed_matrix(tokens, vocab_size)\n",
        "\n",
        "print(\"creating the model...\")\n",
        "model = create_model(vocab_size, max_length_que, max_length_ans, embedding_matrix1)\n",
        "print('loading weights...')\n",
        "model.load_weights(d+\"Models/Model_2.h5\")"
      ],
      "execution_count": 8,
      "outputs": [
        {
          "output_type": "stream",
          "text": [
            "tokenizer is in the disk, so laoding from the disk...\n",
            "creating the model...\n",
            "loading weights...\n"
          ],
          "name": "stdout"
        }
      ]
    },
    {
      "cell_type": "code",
      "metadata": {
        "id": "rjTr4Aujpl1p",
        "colab_type": "code",
        "colab": {}
      },
      "source": [
        "# loading the dataset. it satisfies above two condition\n",
        "df = pd.read_csv(d+\"Processed Data/text_processed.csv\", low_memory=True)\n",
        "df = df.head(4000000)\n",
        "X = df[['question','answer']]\n",
        "Y = df['label']"
      ],
      "execution_count": 0,
      "outputs": []
    },
    {
      "cell_type": "code",
      "metadata": {
        "id": "YMGuAh7Hp5Hw",
        "colab_type": "code",
        "colab": {}
      },
      "source": [
        "def final1(X,Y):\n",
        "    '''\n",
        "    this function will take (X,Y) and returns the MRR.\n",
        "    this alos print the confusion, precision and recall matrix.\n",
        "    X: dataframe: it has two columns [['question','answer']]\n",
        "    Y: it can dataframe, or panadas series. it has the class labels\n",
        "\n",
        "    X and Y must satisfy this two condition, other actual result be differe\n",
        "    1. each question must have only 10 answers and only of them should be correct.\n",
        "    2. First 10 row will correspond first question, next 10 rows will correspond to next question,\n",
        "     next 10 rows will correspond to third question and so on.\n",
        "    '''\n",
        "    #connvert text into sequence\n",
        "    print('text to sequnce...')\n",
        "    que_seq = text_to_seq(X['question'], tokens, max_length_que)\n",
        "    ans_seq = text_to_seq(X['answer'], tokens, max_length_ans)\n",
        "\n",
        "    # prediction\n",
        "    Y_pred = model.predict([que_seq, ans_seq], batch_size=1024, verbose=1)\n",
        "\n",
        "    # calculating the MRR\n",
        "    mrr = get_mrr(Y.values.flatten(), Y_pred.flatten())\n",
        "    return mrr"
      ],
      "execution_count": 0,
      "outputs": []
    },
    {
      "cell_type": "code",
      "metadata": {
        "id": "TX5v0_HjtmgQ",
        "colab_type": "code",
        "outputId": "b01300d6-f10f-4925-ac63-63d545d36aae",
        "colab": {
          "base_uri": "https://localhost:8080/",
          "height": 68
        }
      },
      "source": [
        "mrr = final1(X,Y)\n",
        "print('MRR = {:.4f}'.format(mrr))"
      ],
      "execution_count": 11,
      "outputs": [
        {
          "output_type": "stream",
          "text": [
            "text to sequnce...\n",
            "4000000/4000000 [==============================] - 148s 37us/sample\n",
            "MRR = 0.5436\n"
          ],
          "name": "stdout"
        }
      ]
    },
    {
      "cell_type": "markdown",
      "metadata": {
        "id": "dma30GflyfOG",
        "colab_type": "text"
      },
      "source": [
        "**NOTE:** This **MRR** is high because I used whole data that I've used for training, validation and testing. This `X` includes the training data, that's why we got higher vlaue of **MRR**"
      ]
    },
    {
      "cell_type": "markdown",
      "metadata": {
        "id": "6s_KAq_CmWOX",
        "colab_type": "text"
      },
      "source": [
        "## **`final2()` function**"
      ]
    },
    {
      "cell_type": "markdown",
      "metadata": {
        "id": "5slLv8DRubE6",
        "colab_type": "text"
      },
      "source": [
        "* This function will take the `X` only predict whether the question is correct or not."
      ]
    },
    {
      "cell_type": "code",
      "metadata": {
        "colab_type": "code",
        "id": "BjtUP_zdfeGR",
        "colab": {}
      },
      "source": [
        "def final2(X):\n",
        "    '''\n",
        "    this function take `X` and return predicted Y {0,1}\n",
        "    X: is dataframe: [['question','answer']]\n",
        "    function will predict the label of question and answer pair.\n",
        "    predicted values real values between 0 and 1 (sigmoid output).\n",
        "    threshold = 0.1 for classifying as 1 or 0\n",
        "    np.where(pred>=0.1,1,0) \n",
        "    '''\n",
        "    #connvert text into sequence\n",
        "    print('text to sequnce...')\n",
        "    que_seq = text_to_seq(X['question'], tokens, max_length_que)\n",
        "    ans_seq = text_to_seq(X['answer'], tokens, max_length_ans)\n",
        "\n",
        "    pred = model.predict([que_seq, ans_seq], batch_size = 1024, verbose=1)\n",
        "    return np.where(pred>0.1,1,0)"
      ],
      "execution_count": 0,
      "outputs": []
    },
    {
      "cell_type": "code",
      "metadata": {
        "id": "PxbcXoOZwM5x",
        "colab_type": "code",
        "outputId": "b182ca3d-9209-4efc-8b7d-b6e1b454899d",
        "colab": {
          "base_uri": "https://localhost:8080/",
          "height": 51
        }
      },
      "source": [
        "Y_pred = final2(X)"
      ],
      "execution_count": 13,
      "outputs": [
        {
          "output_type": "stream",
          "text": [
            "text to sequnce...\n",
            "4000000/4000000 [==============================] - 143s 36us/sample\n"
          ],
          "name": "stdout"
        }
      ]
    },
    {
      "cell_type": "code",
      "metadata": {
        "id": "OyeIOUXFxHTE",
        "colab_type": "code",
        "outputId": "0a9584dc-9c94-49e3-a105-ebaebc4cfe04",
        "colab": {
          "base_uri": "https://localhost:8080/",
          "height": 170
        }
      },
      "source": [
        "from sklearn.metrics import classification_report\n",
        "print(classification_report(Y.values.flatten(), Y_pred.flatten()))"
      ],
      "execution_count": 14,
      "outputs": [
        {
          "output_type": "stream",
          "text": [
            "              precision    recall  f1-score   support\n",
            "\n",
            "           0       0.95      0.68      0.80   3600000\n",
            "           1       0.20      0.69      0.31    400000\n",
            "\n",
            "    accuracy                           0.69   4000000\n",
            "   macro avg       0.57      0.69      0.55   4000000\n",
            "weighted avg       0.88      0.69      0.75   4000000\n",
            "\n"
          ],
          "name": "stdout"
        }
      ]
    },
    {
      "cell_type": "code",
      "metadata": {
        "id": "CxzgNnb6yXmu",
        "colab_type": "code",
        "colab": {}
      },
      "source": [
        ""
      ],
      "execution_count": 0,
      "outputs": []
    }
  ]
}